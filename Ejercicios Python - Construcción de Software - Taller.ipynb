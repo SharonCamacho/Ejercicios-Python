{
 "cells": [
  {
   "cell_type": "markdown",
   "metadata": {},
   "source": [
    "# Construcción de Software - Taller\n",
    "\n",
    "* Un tronco de pirámide cuadrangular es una figura geométrica tridimensional, tal como se presenta en la figura a continuación, donde b es la dimensión del lado del cuadrado superior, y B es la dimensión del lado de cuadrado inferior, y h es la altura del tronco. Escriba programa en Phyton que solicite la información necesaria para armar un tronco de pirámide, y que calcule y muestre:\n",
    "\n",
    "  * El área del tronco de pirámide\n",
    "\n",
    "  * El volumen del tronco. Para calcular el volumen de esta figura, podemos utilizar la fórmula (S1 es el área del cuadrado inferior y S2 es el área del cuadrado superior):"
   ]
  },
  {
   "cell_type": "code",
   "execution_count": 37,
   "metadata": {},
   "outputs": [
    {
     "name": "stdout",
     "output_type": "stream",
     "text": [
      "Ingrese la dimensión del lado del cuadrado superior: En cm 12\n",
      "Ingrese la dimensión del lado del cuadrado inferior: En cm 24\n",
      "Ingrese la altura del tronco: En cm 24\n",
      "El área del tronco de pirámide es de 2,501.18 cm2 y el volumen de 8,064.00 cm3.\n"
     ]
    }
   ],
   "source": [
    "import math\n",
    "\n",
    "b = float(input('Ingrese la dimensión del lado del cuadrado superior: En cm '))\n",
    "B = float(input('Ingrese la dimensión del lado del cuadrado inferior: En cm '))\n",
    "h = float(input('Ingrese la altura del tronco: En cm '))\n",
    "\n",
    "def piramide(x,y,z):\n",
    "\n",
    "    ap_BM = y / 2\n",
    "    ap_Bm = x / 2\n",
    "\n",
    "    ap = math.sqrt( (z ** 2) + ((ap_BM - ap_Bm) ** 2))\n",
    "\n",
    "    area = (x ** 2) + (y ** 2) + (4 * ((y + x) / 2) * ap)\n",
    "\n",
    "    volumen = (z / 3) * ((x ** 2) + (y ** 2) + math.sqrt((x ** 2)*(y ** 2)))\n",
    "\n",
    "    return 'El área del tronco de pirámide es de %s cm2 y el volumen de %s cm3.' % (\"{0:,.2f}\".format(area), \"{0:,.2f}\".format(volumen))\n",
    "\n",
    "\n",
    "print(piramide(b,B,h))\n",
    "\n"
   ]
  },
  {
   "cell_type": "markdown",
   "metadata": {},
   "source": [
    "* Escriba una clase en python un programa que modele el camión de una empresa de transporte: el camión va a llevar una carga de Bogotá a Sasaima. El camión es capaz de transportar un número determinado de kilos en un viaje y en cada viaje consume un número determinado de galones de gasolina por kilómetro. El programa debe leer estos datos y encontrar la siguiente información:\n",
    "\n",
    "  * Determinar el número de viajes que va a realizar el camión si va a llevar una carga a Sasaima. El método deberá obtener también el número de galones de gasolina que se necesitan para todos los viajes."
   ]
  },
  {
   "cell_type": "code",
   "execution_count": 38,
   "metadata": {},
   "outputs": [
    {
     "name": "stdout",
     "output_type": "stream",
     "text": [
      "cuántos kilos va a transportar? 932\n",
      "cuántos kilómetros va a recorrer? 2354232\n"
     ]
    },
    {
     "data": {
      "text/plain": [
       "'El camión deberá hacer 3 viajes y gastará 61,953.47 galones.'"
      ]
     },
     "execution_count": 38,
     "metadata": {},
     "output_type": "execute_result"
    }
   ],
   "source": [
    "import math\n",
    "\n",
    "class camion:\n",
    "    \n",
    "    def transporte(self):\n",
    "        x = float(input('cuántos kilos va a transportar? '))\n",
    "        capacidad = 450 #en kilográmos\n",
    "        viajes = math.ceil(x / capacidad)\n",
    "\n",
    "        y = float(input('cuántos kilómetros va a recorrer? '))\n",
    "        #se asumen 38 km por galón\n",
    "        gasolina = y / 38\n",
    "        return 'El camión deberá hacer %s viajes y gastará %s galones.' % (viajes, \"{0:,.2f}\".format(gasolina))\n",
    "    \n",
    "\n",
    "furgon = camion()\n",
    "\n",
    "\n",
    "furgon.transporte()\n",
    "\n",
    "\n",
    "    "
   ]
  },
  {
   "cell_type": "markdown",
   "metadata": {},
   "source": [
    "* Un tronco de cono, es una figura geométrica resultante de cortar la parte superior de un cono normal\n",
    "\n",
    "  * El volumen de un cono se halla fácilmente multiplicando el área de la base (que para el cono es un círculo, y el área se calcula como A = πr ) por la altura. Su misión ahora es escribir un programa en python que halle el 2 volumen del tronco de cono, a partir de los datos necesarios."
   ]
  },
  {
   "cell_type": "code",
   "execution_count": 39,
   "metadata": {},
   "outputs": [
    {
     "name": "stdout",
     "output_type": "stream",
     "text": [
      "Ingrese el radio lado del círculo superior: 5\n",
      "Ingrese el radio lado del círculo inferior: 13\n",
      "Ingrese la altura del tronco: 15\n",
      "El volumen del cono es de 4,068.36 cm3.\n"
     ]
    }
   ],
   "source": [
    "import math\n",
    "\n",
    "r = float(input('Ingrese el radio lado del círculo superior: '))\n",
    "R = float(input('Ingrese el radio lado del círculo inferior: '))\n",
    "h = float(input('Ingrese la altura del tronco: '))\n",
    "\n",
    "def cono(x,y,z):\n",
    "        \n",
    "    volumen = ((math.pi * z)/3)  * (y ** 2 + x ** 2 + y * x)\n",
    "\n",
    "    return 'El volumen del cono es de %s cm3.' % \"{0:,.2f}\".format(volumen)\n",
    "\n",
    "\n",
    "print(cono(r,R,h))\n"
   ]
  },
  {
   "cell_type": "markdown",
   "metadata": {},
   "source": [
    "* Vamos a escribir un programa que nos permita organizar un paseo a Melgar. A ese paseo van estudiantes gordos y flacos y también se debe contar con el número de sillas que tienen los buses, el valor de un plato de comida, el valor de una habitación de hotel, el número de personas que caben en una habitación, el precio que se paga por alquilar un bus y el número de días que dura el paseo. El programa debe leer todos estos datos y:\n",
    "\n",
    "  * Hallar el número de buses que se van a necesitar para el paseo, sabiendo que en un bus, los estudiantes gordos ocupan dos sillas y los flacos sólo una.\n",
    "  * Determinar cuánto dinero nos cuesta alquilar esos buses. Tenga en cuenta que se contratan tanto para ir como para regresar.\n",
    "  * Encontrar el valor a pagar por la comida, sabiendo que los estudiantes gordos comen 5 veces al día, mientras los estudiantes flacos solo comen 3 veces al día.\n",
    "  * Hallar el número de habitaciones que se necesitan reservar para que duerman los estudiantes.\n",
    "  * Encontrar el valor a pagar por las habitaciones del hotel, diario y en total por la duración del paseo."
   ]
  },
  {
   "cell_type": "code",
   "execution_count": 17,
   "metadata": {},
   "outputs": [
    {
     "name": "stdout",
     "output_type": "stream",
     "text": [
      "Ingrese el número de estudiantes gordos: 12\n",
      "Ingrese el número de estudiantes flacos: 54\n",
      "Ingrese el valor del plata de comida: 10000\n",
      "Ingrese el valor de la habitación de hotel: 50000\n",
      "cuántos días van a pasear? 5\n",
      "El paseo tendrá un valor de $ 16,350,000.0.\n"
     ]
    }
   ],
   "source": [
    "g = int(input('Ingrese el número de estudiantes gordos: '))\n",
    "f = int(input('Ingrese el número de estudiantes flacos: '))\n",
    "comida = float(input('Ingrese el valor del plata de comida: '))\n",
    "hotel = float(input('Ingrese el valor de la habitación de hotel: '))\n",
    "dias_paseo = int(input('cuántos días van a pasear? '))\n",
    "\n",
    "sillas_bus = 48 #valor asumido\n",
    "pers_hab = 4 #valor asumido\n",
    "costo_1_bus = 250000 #valor asumido\n",
    "\n",
    "def paseo(w,x,y,b,z):\n",
    "    \n",
    "    num_buses = math.ceil((w+x)/sillas_bus)\n",
    "    val_bus = (costo_1_bus * num_buses) * 2\n",
    "    \n",
    "    val_comida = ((y * w * 5) + (y * x *3))*z\n",
    "    \n",
    "    num_hab = math.ceil((w+x)/pers_hab)\n",
    "    \n",
    "    val_hab = b * num_hab * z\n",
    "    \n",
    "    val_paseo = val_comida + val_bus + val_hab\n",
    "    \n",
    "    return 'El paseo tendrá un valor de $ %s.' % '{:,}'.format(val_paseo)\n",
    "\n",
    "print(paseo(g,f,comida,hotel,dias_paseo))\n",
    "    \n",
    "    \n",
    "    \n",
    "    \n",
    "\n"
   ]
  },
  {
   "cell_type": "markdown",
   "metadata": {},
   "source": [
    "* Vamos a construir un programa para un avión. En esta programa vamos a almacenar el número de pasajeros que viajan en cada una de las tres clases que posee. El avión se manejan divisiones o clases para los tiquetes: la primera clase o clase 1, cuesta 500 mil por pasajero; la clase 2 cuesta 200 mil por pasajero y la clase 3, que cuesta 125 mil por pasajero. En el programa debe leer la clase (un número entero, que puede ser 1, 2 o 3) y el número de pasajeros que compraron tiquetes en esa clase y determine el valor total recolectado por la empresa aérea, gracias a la venta de esos tiquetes en esa clase."
   ]
  },
  {
   "cell_type": "code",
   "execution_count": 19,
   "metadata": {},
   "outputs": [
    {
     "name": "stdout",
     "output_type": "stream",
     "text": [
      "ingrese la clase: 1\n",
      "Ingrese el número de pasajeros de primera clase: 23\n",
      "ingrese la clase: 2\n",
      "Ingrese el número de pasajeros de segunda clase: 50\n",
      "ingrese la clase: 3\n",
      "Ingrese el número de pasajeros de tercera clase: 124\n",
      "El valor total recolectado por la empresa aérea fue: $37,000,000\n"
     ]
    }
   ],
   "source": [
    "def avion():\n",
    "    prim = 0\n",
    "    seg = 0\n",
    "    terc = 0\n",
    "    \n",
    "    for i in [0, 1, 2]:\n",
    "        x = int(input('ingrese la clase: '))\n",
    "        if x == 1:\n",
    "            prim = int(input('Ingrese el número de pasajeros de primera clase: '))\n",
    "        elif x == 2:\n",
    "            seg = int(input('Ingrese el número de pasajeros de segunda clase: '))\n",
    "        elif x == 3:\n",
    "            terc = int(input('Ingrese el número de pasajeros de tercera clase: '))\n",
    "        else:\n",
    "            print('No es una clase válida')\n",
    "\n",
    "    if prim != 0 or seg != 0 or terc != 0:\n",
    "        total = prim * 500000 + seg * 200000 + terc * 125000\n",
    "        return 'El valor total recolectado por la empresa aérea fue: $%s' % '{:,}'.format(total)\n",
    "    else:\n",
    "        return 'no se ingresaron categorías válidas'\n",
    "    \n",
    "print(avion())\n",
    "    \n",
    "    "
   ]
  },
  {
   "cell_type": "markdown",
   "metadata": {},
   "source": [
    "* Un hexágono regular en una figura geométrica, cuya área depende de la dimensión del lado (L) y del apotema (ap) del hexágono. Escriba un programa en python que obtenga los datos necesarios del usuario y halle el área de acuerdo a la  fórmula:"
   ]
  },
  {
   "cell_type": "code",
   "execution_count": 41,
   "metadata": {},
   "outputs": [
    {
     "name": "stdout",
     "output_type": "stream",
     "text": [
      "Ingrese la dimensión del lado: 6\n",
      "Ingrese la dimensión del apotema: 5.2\n",
      "El area del hexágono es de 93.60 m^2.\n"
     ]
    }
   ],
   "source": [
    "def hex():\n",
    "    L = float(input('Ingrese la dimensión del lado: '))\n",
    "    ap = float(input('Ingrese la dimensión del apotema: '))\n",
    "    \n",
    "    area = (6 * L * ap) / 2\n",
    "\n",
    "    return 'El area del hexágono es de %s m^2.' % \"{0:,.2f}\".format(area)\n",
    "\n",
    "\n",
    "print(hex())"
   ]
  },
  {
   "cell_type": "markdown",
   "metadata": {},
   "source": [
    "* Para un triángulo cualquiera, donde sus lados miden a, b y c centímetros, escriba un programa en python que lea los tres lados del triángulo y permita calcular y mostrar el semiperímetro, el área y el circumradius de ese triángulo."
   ]
  },
  {
   "cell_type": "code",
   "execution_count": 45,
   "metadata": {},
   "outputs": [
    {
     "name": "stdout",
     "output_type": "stream",
     "text": [
      "ingrese el primer lado del triángulo: 2\n",
      "ingrese el segundo lado del triángulo: 3\n",
      "ingrese el tercer lado del triángulo: 4\n",
      "Para las medidas del tríangulo ingresadas, se tiene que el semiperímetro es de 4.50 cm, el área de 3.64 cm y el circumradius de 0.52 cm.\n"
     ]
    }
   ],
   "source": [
    "import math \n",
    "\n",
    "def trian():\n",
    "    l1 = float(input('ingrese el primer lado del triángulo: '))\n",
    "    l2 = float(input('ingrese el segundo lado del triángulo: '))\n",
    "    l3 = float(input('ingrese el tercer lado del triángulo: '))\n",
    "    \n",
    "    semipe = (l1 + l2 + l3) / 2\n",
    "    area = math.sqrt(semipe * (semipe - l1) + (semipe - l2) + (semipe - l3))\n",
    "    circum = (l1 * l2 * l3) / ((4 * math.pi) * math.sqrt(semipe * (semipe - l1) + (semipe - l2) + (semipe - l3)))\n",
    "    \n",
    "    return 'Para las medidas del tríangulo ingresadas, se tiene que el semiperímetro es de %s cm, el área de %s cm y el circumradius de %s cm.' % (\"{0:,.2f}\".format(semipe), \"{0:,.2f}\".format(area), \"{0:,.2f}\".format(circum))\n",
    "\n",
    "print(trian())"
   ]
  },
  {
   "cell_type": "code",
   "execution_count": null,
   "metadata": {},
   "outputs": [],
   "source": []
  }
 ],
 "metadata": {
  "kernelspec": {
   "display_name": "Python 3",
   "language": "python",
   "name": "python3"
  },
  "language_info": {
   "codemirror_mode": {
    "name": "ipython",
    "version": 3
   },
   "file_extension": ".py",
   "mimetype": "text/x-python",
   "name": "python",
   "nbconvert_exporter": "python",
   "pygments_lexer": "ipython3",
   "version": "3.6.4"
  }
 },
 "nbformat": 4,
 "nbformat_minor": 2
}
